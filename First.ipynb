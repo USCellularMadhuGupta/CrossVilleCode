{
  "nbformat": 4,
  "nbformat_minor": 0,
  "metadata": {
    "colab": {
      "name": "Untitled0.ipynb",
      "provenance": [],
      "authorship_tag": "ABX9TyNoFCKBya2fBKJuFZTDkWr8",
      "include_colab_link": true
    },
    "kernelspec": {
      "name": "python3",
      "display_name": "Python 3"
    },
    "language_info": {
      "name": "python"
    }
  },
  "cells": [
    {
      "cell_type": "markdown",
      "metadata": {
        "id": "view-in-github",
        "colab_type": "text"
      },
      "source": [
        "<a href=\"https://colab.research.google.com/github/USCellularMadhuGupta/CrossVilleCode/blob/master/First.ipynb\" target=\"_parent\"><img src=\"https://colab.research.google.com/assets/colab-badge.svg\" alt=\"Open In Colab\"/></a>"
      ]
    },
    {
      "cell_type": "code",
      "execution_count": 3,
      "metadata": {
        "id": "4pEzNjxLidG1"
      },
      "outputs": [],
      "source": [
        "def square(number):\n",
        "    return number**2"
      ]
    },
    {
      "cell_type": "code",
      "source": [
        "square(10)"
      ],
      "metadata": {
        "colab": {
          "base_uri": "https://localhost:8080/"
        },
        "id": "JBSrmpNHkGx3",
        "outputId": "799d5689-4e01-4d21-b389-f4ddf8d27343"
      },
      "execution_count": 4,
      "outputs": [
        {
          "output_type": "execute_result",
          "data": {
            "text/plain": [
              "100"
            ]
          },
          "metadata": {},
          "execution_count": 4
        }
      ]
    },
    {
      "cell_type": "code",
      "source": [
        "def maxOfThree(value1, value2, value3):\n",
        "  max_value=value1\n",
        "  if(value2 > max_value):\n",
        "     max_value=value2\n",
        "  if(value3 > max_value):\n",
        "      max_value=value3\n",
        "  return max_value   "
      ],
      "metadata": {
        "id": "esZ7cR_MkZgA"
      },
      "execution_count": 6,
      "outputs": []
    },
    {
      "cell_type": "code",
      "source": [
        "maxOfThree(12,15,10)"
      ],
      "metadata": {
        "colab": {
          "base_uri": "https://localhost:8080/"
        },
        "id": "jctNjH8zlEvw",
        "outputId": "a05974a2-76f1-4888-c1d3-0d0765383270"
      },
      "execution_count": 7,
      "outputs": [
        {
          "output_type": "execute_result",
          "data": {
            "text/plain": [
              "15"
            ]
          },
          "metadata": {},
          "execution_count": 7
        }
      ]
    },
    {
      "cell_type": "code",
      "source": [
        "maxOfThree('amber','blue','orange')"
      ],
      "metadata": {
        "colab": {
          "base_uri": "https://localhost:8080/",
          "height": 35
        },
        "id": "qL1uny0ylKin",
        "outputId": "02e82a3b-1509-48e2-96d3-0488a9d54a8c"
      },
      "execution_count": 10,
      "outputs": [
        {
          "output_type": "execute_result",
          "data": {
            "application/vnd.google.colaboratory.intrinsic+json": {
              "type": "string"
            },
            "text/plain": [
              "'orange'"
            ]
          },
          "metadata": {},
          "execution_count": 10
        }
      ]
    },
    {
      "cell_type": "code",
      "source": [
        "import random\n",
        "for roll in range(10): \n",
        "  print(random.randrange(1,7), end=' ')"
      ],
      "metadata": {
        "colab": {
          "base_uri": "https://localhost:8080/"
        },
        "id": "GyGwaFJ8nKJs",
        "outputId": "2d9e64b4-11af-4287-8188-841635b33351"
      },
      "execution_count": 24,
      "outputs": [
        {
          "output_type": "stream",
          "name": "stdout",
          "text": [
            "4\n",
            "6\n",
            "6\n",
            "4\n",
            "6\n",
            "1\n",
            "6\n",
            "5\n",
            "2\n",
            "4\n"
          ]
        }
      ]
    }
  ]
}